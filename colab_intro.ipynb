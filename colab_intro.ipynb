{
  "nbformat": 4,
  "nbformat_minor": 0,
  "metadata": {
    "colab": {
      "provenance": [],
      "authorship_tag": "ABX9TyOLWDB0WLq1iWm4NKOWx75t",
      "include_colab_link": true
    },
    "kernelspec": {
      "name": "python3",
      "display_name": "Python 3"
    },
    "language_info": {
      "name": "python"
    }
  },
  "cells": [
    {
      "cell_type": "markdown",
      "metadata": {
        "id": "view-in-github",
        "colab_type": "text"
      },
      "source": [
        "<a href=\"https://colab.research.google.com/github/atlas-github/2025fstep29/blob/main/colab_intro.ipynb\" target=\"_parent\"><img src=\"https://colab.research.google.com/assets/colab-badge.svg\" alt=\"Open In Colab\"/></a>"
      ]
    },
    {
      "cell_type": "markdown",
      "source": [
        "#IDEs for Python"
      ],
      "metadata": {
        "id": "Ci23PJ2Xdy1I"
      }
    },
    {
      "cell_type": "code",
      "source": [],
      "metadata": {
        "id": "ZJTBdiV5hXNV"
      },
      "execution_count": null,
      "outputs": []
    },
    {
      "cell_type": "markdown",
      "source": [
        "#Google Colab"
      ],
      "metadata": {
        "id": "F5af3kDcd3mY"
      }
    },
    {
      "cell_type": "code",
      "execution_count": null,
      "metadata": {
        "id": "O2gXZughdwsY"
      },
      "outputs": [],
      "source": [
        "#this is a code cell"
      ]
    },
    {
      "cell_type": "markdown",
      "source": [
        "This is a text cell"
      ],
      "metadata": {
        "id": "hRuBF0xRd7Hf"
      }
    },
    {
      "cell_type": "markdown",
      "source": [
        "###headers can be created using hash sign, goes until level 6\n",
        "\n",
        "hash signs are useful when making your Colab notebook easily readable to others, and developer/reader can collapse certain sections"
      ],
      "metadata": {
        "id": "MF9-qrQXd-8i"
      }
    },
    {
      "cell_type": "markdown",
      "source": [
        "A few other settings:\n",
        "\n",
        "1.   Tools >> Settings >> Editor >> Show line numbers (check this option)\n",
        "2.   Tools >> Settings >> Miscellaneous >> Power level / Corgi mode"
      ],
      "metadata": {
        "id": "lliClHk3eBwq"
      }
    }
  ]
}